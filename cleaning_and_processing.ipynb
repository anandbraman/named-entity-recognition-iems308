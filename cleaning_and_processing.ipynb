{
 "cells": [
  {
   "cell_type": "code",
   "execution_count": 59,
   "metadata": {},
   "outputs": [],
   "source": [
    "import nltk\n",
    "from nltk.stem import WordNetLemmatizer\n",
    "from nltk.tokenize.treebank import TreebankWordDetokenizer\n",
    "import pandas as pd\n",
    "import re\n",
    "import spacy\n",
    "import os\n",
    "import string"
   ]
  },
  {
   "cell_type": "markdown",
   "metadata": {},
   "source": [
    "## Preprocessing Outline"
   ]
  },
  {
   "cell_type": "markdown",
   "metadata": {},
   "source": [
    "1. Text preprocessing on articles\n",
    "    - Tokenize articles\n",
    "    - remove stopwords\n",
    "    - Lemmatize\n",
    "2. Break articles into sets of 20 of words\n",
    "3. Create training data\n",
    "        - get chunks of text, len 20\n",
    "        - pre process chunks\n",
    "        - join labeled data \n",
    "        - extract features"
   ]
  },
  {
   "cell_type": "markdown",
   "metadata": {},
   "source": [
    "## Reading in Data"
   ]
  },
  {
   "cell_type": "code",
   "execution_count": 2,
   "metadata": {},
   "outputs": [],
   "source": [
    "files = os.listdir('data/articles/')\n",
    "files = [file for file in files if file != \".DS_Store\"]"
   ]
  },
  {
   "cell_type": "code",
   "execution_count": 3,
   "metadata": {},
   "outputs": [],
   "source": [
    "text_dat = []"
   ]
  },
  {
   "cell_type": "code",
   "execution_count": 4,
   "metadata": {},
   "outputs": [],
   "source": [
    "for file in files:\n",
    "    fname = 'data/articles/' + file\n",
    "    f = open(fname, encoding='utf8', errors='replace')\n",
    "    article = f.read()\n",
    "    # removing nonsense chars\n",
    "    printable = set(string.printable)\n",
    "    article = ''.join(filter(lambda x: x in printable, article))\n",
    "    text_dat.append(article)\n",
    "\n",
    "f.close()"
   ]
  },
  {
   "cell_type": "markdown",
   "metadata": {},
   "source": [
    "## Tokenizing"
   ]
  },
  {
   "cell_type": "code",
   "execution_count": 20,
   "metadata": {},
   "outputs": [],
   "source": [
    "def is_digit(string):\n",
    "    try: \n",
    "        float(string)\n",
    "        return True\n",
    "    except ValueError:\n",
    "        return False"
   ]
  },
  {
   "cell_type": "code",
   "execution_count": 66,
   "metadata": {},
   "outputs": [],
   "source": [
    "# function that tokenizes a list of articles\n",
    "def clean_txt(article):\n",
    "    article_tokens = article.split()\n",
    "    \n",
    "    # removing stopwords\n",
    "    stopwords = set(nltk.corpus.stopwords.words('english'))\n",
    "    tokens_nostop = [tk for tk in article_tokens if not tk in stopwords]\n",
    "    \n",
    "    # lemmatize\n",
    "    lemmatize = WordNetLemmatizer()\n",
    "    tokens_lem = [lemmatize.lemmatize(word) for word in tokens_nostop]\n",
    "    \n",
    "    # make numbers followed by percent one word\n",
    "    for index, value in enumerate(tokens_lem):\n",
    "        if is_digit(value) == True and index+1 < len(tokens_lem) and tokens_lem[index+1] == 'percent':\n",
    "            tokens_lem[index] = value + \" \" + 'percent'\n",
    "            tokens_lem.pop(index+1)\n",
    "    \n",
    "    return tokens_lem"
   ]
  },
  {
   "cell_type": "code",
   "execution_count": 67,
   "metadata": {},
   "outputs": [],
   "source": [
    "cleaned_lst = [clean_txt(article) for article in text_dat]"
   ]
  },
  {
   "cell_type": "code",
   "execution_count": 68,
   "metadata": {},
   "outputs": [
    {
     "data": {
      "text/plain": [
       "730"
      ]
     },
     "execution_count": 68,
     "metadata": {},
     "output_type": "execute_result"
    }
   ],
   "source": [
    "len(cleaned_lst)"
   ]
  },
  {
   "cell_type": "markdown",
   "metadata": {},
   "source": [
    "# Labeling data"
   ]
  },
  {
   "cell_type": "code",
   "execution_count": 69,
   "metadata": {},
   "outputs": [],
   "source": [
    "ceos = pd.read_csv('data/labels/ceo.csv', encoding=\"ISO-8859-1\",header=None)\n",
    "companies = pd.read_csv('data/labels/companies.csv', header=None)\n",
    "percentages = pd.read_csv('data/labels/percentage.csv', encoding=\"ISO-8859-1\",header=None)"
   ]
  },
  {
   "cell_type": "code",
   "execution_count": 70,
   "metadata": {},
   "outputs": [
    {
     "data": {
      "text/html": [
       "<div>\n",
       "<style scoped>\n",
       "    .dataframe tbody tr th:only-of-type {\n",
       "        vertical-align: middle;\n",
       "    }\n",
       "\n",
       "    .dataframe tbody tr th {\n",
       "        vertical-align: top;\n",
       "    }\n",
       "\n",
       "    .dataframe thead th {\n",
       "        text-align: right;\n",
       "    }\n",
       "</style>\n",
       "<table border=\"1\" class=\"dataframe\">\n",
       "  <thead>\n",
       "    <tr style=\"text-align: right;\">\n",
       "      <th></th>\n",
       "      <th>0</th>\n",
       "      <th>1</th>\n",
       "      <th>2</th>\n",
       "    </tr>\n",
       "  </thead>\n",
       "  <tbody>\n",
       "    <tr>\n",
       "      <th>0</th>\n",
       "      <td>Tom</td>\n",
       "      <td>Horton</td>\n",
       "      <td>Tom Horton</td>\n",
       "    </tr>\n",
       "    <tr>\n",
       "      <th>1</th>\n",
       "      <td>Patti</td>\n",
       "      <td>Hart</td>\n",
       "      <td>Patti Hart</td>\n",
       "    </tr>\n",
       "    <tr>\n",
       "      <th>2</th>\n",
       "      <td>Jamie</td>\n",
       "      <td>Dimon</td>\n",
       "      <td>Jamie Dimon</td>\n",
       "    </tr>\n",
       "    <tr>\n",
       "      <th>3</th>\n",
       "      <td>Steve</td>\n",
       "      <td>Cohen</td>\n",
       "      <td>Steve Cohen</td>\n",
       "    </tr>\n",
       "    <tr>\n",
       "      <th>4</th>\n",
       "      <td>Tim</td>\n",
       "      <td>Cook</td>\n",
       "      <td>Tim Cook</td>\n",
       "    </tr>\n",
       "  </tbody>\n",
       "</table>\n",
       "</div>"
      ],
      "text/plain": [
       "       0       1            2\n",
       "0    Tom  Horton   Tom Horton\n",
       "1  Patti    Hart   Patti Hart\n",
       "2  Jamie   Dimon  Jamie Dimon\n",
       "3  Steve   Cohen  Steve Cohen\n",
       "4    Tim    Cook     Tim Cook"
      ]
     },
     "execution_count": 70,
     "metadata": {},
     "output_type": "execute_result"
    }
   ],
   "source": [
    "ceos[2] = [' '.join(s.split()) for s in ceos[2]]\n",
    "ceos.head()"
   ]
  },
  {
   "cell_type": "markdown",
   "metadata": {},
   "source": [
    "### Subsets of Lists"
   ]
  },
  {
   "cell_type": "code",
   "execution_count": 234,
   "metadata": {},
   "outputs": [],
   "source": [
    "word_subsets = []\n",
    "for article_tokens in cleaned_lst:\n",
    "    article_subset = [article_tokens[x:x+20] for x in range(0, len(article_tokens), 20)]\n",
    "    word_subsets.extend(article_subset)"
   ]
  },
  {
   "cell_type": "code",
   "execution_count": 235,
   "metadata": {},
   "outputs": [],
   "source": [
    "detokenizer = TreebankWordDetokenizer()\n",
    "detokenized_subsets = [detokenizer.detokenize(subset) for subset in word_subsets]"
   ]
  },
  {
   "cell_type": "code",
   "execution_count": 236,
   "metadata": {},
   "outputs": [],
   "source": [
    "# creating dictionary\n",
    "tokens_and_subsets = dict(zip(detokenized_subsets, word_subsets))"
   ]
  },
  {
   "cell_type": "code",
   "execution_count": 237,
   "metadata": {},
   "outputs": [
    {
     "data": {
      "text/plain": [
       "('(Reuters) - The Federal Reserve\\'s vow keep interest rate near zero \"considerable time\" likely remain place now, U.S. central bank',\n",
       " ['(Reuters)',\n",
       "  '-',\n",
       "  'The',\n",
       "  'Federal',\n",
       "  \"Reserve's\",\n",
       "  'vow',\n",
       "  'keep',\n",
       "  'interest',\n",
       "  'rate',\n",
       "  'near',\n",
       "  'zero',\n",
       "  '\"considerable',\n",
       "  'time\"',\n",
       "  'likely',\n",
       "  'remain',\n",
       "  'place',\n",
       "  'now,',\n",
       "  'U.S.',\n",
       "  'central',\n",
       "  'bank'])"
      ]
     },
     "execution_count": 237,
     "metadata": {},
     "output_type": "execute_result"
    }
   ],
   "source": [
    "next(iter(tokens_and_subsets.items()))"
   ]
  },
  {
   "cell_type": "markdown",
   "metadata": {},
   "source": [
    "## Matching CEOs"
   ]
  },
  {
   "cell_type": "code",
   "execution_count": 238,
   "metadata": {},
   "outputs": [],
   "source": [
    "# unique ceos\n",
    "ceo_lst = list(set(ceos[2]))"
   ]
  },
  {
   "cell_type": "code",
   "execution_count": 239,
   "metadata": {},
   "outputs": [],
   "source": [
    "ceo_matches = []\n",
    "for i in range(len(detokenized_subsets)):\n",
    "    match = [x for x in ceo_lst if x in detokenized_subsets[i]]\n",
    "    if len(match) ==0:\n",
    "        match = ['None']\n",
    "    ceo_matches.append(match)"
   ]
  },
  {
   "cell_type": "markdown",
   "metadata": {},
   "source": [
    "Some text contains more than one match.\n",
    "<br>\n",
    "Solution: iterate over the list of matches, if there is more than one match duplicate the text for as many matches as there are in the list."
   ]
  },
  {
   "cell_type": "code",
   "execution_count": 240,
   "metadata": {},
   "outputs": [],
   "source": [
    "ceo_text = []\n",
    "unique_ceos = []\n",
    "for i in range(len(ceo_matches)):\n",
    "    if len(ceo_matches[i]) > 1:\n",
    "        for j in range(len(ceo_matches[i])):\n",
    "            ceo_text.append(detokenized_subsets[i])\n",
    "            unique_ceos.append([ceo_matches[i][j]])\n",
    "            \n",
    "    else: \n",
    "        ceo_text.append(detokenized_subsets[i])\n",
    "        unique_ceos.append(ceo_matches[i])"
   ]
  },
  {
   "cell_type": "code",
   "execution_count": 241,
   "metadata": {},
   "outputs": [
    {
     "data": {
      "text/plain": [
       "464524"
      ]
     },
     "execution_count": 241,
     "metadata": {},
     "output_type": "execute_result"
    }
   ],
   "source": [
    "len(ceo_text)"
   ]
  },
  {
   "cell_type": "code",
   "execution_count": 242,
   "metadata": {},
   "outputs": [
    {
     "data": {
      "text/plain": [
       "464524"
      ]
     },
     "execution_count": 242,
     "metadata": {},
     "output_type": "execute_result"
    }
   ],
   "source": [
    "len(unique_ceos)"
   ]
  },
  {
   "cell_type": "markdown",
   "metadata": {},
   "source": [
    "## CEO Training Data"
   ]
  },
  {
   "cell_type": "code",
   "execution_count": 243,
   "metadata": {},
   "outputs": [],
   "source": [
    "df = pd.DataFrame({'text': ceo_text,\n",
    "                  'ceos': unique_ceos})"
   ]
  },
  {
   "cell_type": "code",
   "execution_count": 244,
   "metadata": {},
   "outputs": [
    {
     "data": {
      "text/plain": [
       "text    object\n",
       "ceos    object\n",
       "dtype: object"
      ]
     },
     "execution_count": 244,
     "metadata": {},
     "output_type": "execute_result"
    }
   ],
   "source": [
    "df.dtypes"
   ]
  },
  {
   "cell_type": "code",
   "execution_count": 245,
   "metadata": {},
   "outputs": [],
   "source": [
    "# turning lists of len 1 to a \n",
    "df['ceoStr'] = [''.join(lst) for lst in df.ceos]"
   ]
  },
  {
   "cell_type": "code",
   "execution_count": 254,
   "metadata": {},
   "outputs": [],
   "source": [
    "df['text_tokens'] = [tokens_and_subsets.get(text) for text in df['text']]"
   ]
  },
  {
   "cell_type": "code",
   "execution_count": 257,
   "metadata": {},
   "outputs": [],
   "source": [
    "df['label'] = [1 if val != 'None' else 0 for val in df.ceoStr]"
   ]
  },
  {
   "cell_type": "code",
   "execution_count": 258,
   "metadata": {},
   "outputs": [
    {
     "data": {
      "text/html": [
       "<div>\n",
       "<style scoped>\n",
       "    .dataframe tbody tr th:only-of-type {\n",
       "        vertical-align: middle;\n",
       "    }\n",
       "\n",
       "    .dataframe tbody tr th {\n",
       "        vertical-align: top;\n",
       "    }\n",
       "\n",
       "    .dataframe thead th {\n",
       "        text-align: right;\n",
       "    }\n",
       "</style>\n",
       "<table border=\"1\" class=\"dataframe\">\n",
       "  <thead>\n",
       "    <tr style=\"text-align: right;\">\n",
       "      <th></th>\n",
       "      <th>text</th>\n",
       "      <th>ceos</th>\n",
       "      <th>ceoStr</th>\n",
       "      <th>text_tokens</th>\n",
       "      <th>label</th>\n",
       "    </tr>\n",
       "  </thead>\n",
       "  <tbody>\n",
       "    <tr>\n",
       "      <th>0</th>\n",
       "      <td>(Reuters) - The Federal Reserve's vow keep int...</td>\n",
       "      <td>[Federal Reserve]</td>\n",
       "      <td>Federal Reserve</td>\n",
       "      <td>[(Reuters), -, The, Federal, Reserve's, vow, k...</td>\n",
       "      <td>1</td>\n",
       "    </tr>\n",
       "    <tr>\n",
       "      <th>1</th>\n",
       "      <td>set take slow steady approach first rate rise ...</td>\n",
       "      <td>[None]</td>\n",
       "      <td>None</td>\n",
       "      <td>[set, take, slow, steady, approach, first, rat...</td>\n",
       "      <td>0</td>\n",
       "    </tr>\n",
       "    <tr>\n",
       "      <th>2</th>\n",
       "      <td>official want remove it. But others feel still...</td>\n",
       "      <td>[None]</td>\n",
       "      <td>None</td>\n",
       "      <td>[official, want, remove, it., But, others, fee...</td>\n",
       "      <td>0</td>\n",
       "    </tr>\n",
       "    <tr>\n",
       "      <th>3</th>\n",
       "      <td>market rate hike still way off. \"I think 'cons...</td>\n",
       "      <td>[None]</td>\n",
       "      <td>None</td>\n",
       "      <td>[market, rate, hike, still, way, off., \"I, thi...</td>\n",
       "      <td>0</td>\n",
       "    </tr>\n",
       "    <tr>\n",
       "      <th>4</th>\n",
       "      <td>Fed President John Williams told Market News I...</td>\n",
       "      <td>[None]</td>\n",
       "      <td>None</td>\n",
       "      <td>[Fed, President, John, Williams, told, Market,...</td>\n",
       "      <td>0</td>\n",
       "    </tr>\n",
       "  </tbody>\n",
       "</table>\n",
       "</div>"
      ],
      "text/plain": [
       "                                                text               ceos  \\\n",
       "0  (Reuters) - The Federal Reserve's vow keep int...  [Federal Reserve]   \n",
       "1  set take slow steady approach first rate rise ...             [None]   \n",
       "2  official want remove it. But others feel still...             [None]   \n",
       "3  market rate hike still way off. \"I think 'cons...             [None]   \n",
       "4  Fed President John Williams told Market News I...             [None]   \n",
       "\n",
       "            ceoStr                                        text_tokens  label  \n",
       "0  Federal Reserve  [(Reuters), -, The, Federal, Reserve's, vow, k...      1  \n",
       "1             None  [set, take, slow, steady, approach, first, rat...      0  \n",
       "2             None  [official, want, remove, it., But, others, fee...      0  \n",
       "3             None  [market, rate, hike, still, way, off., \"I, thi...      0  \n",
       "4             None  [Fed, President, John, Williams, told, Market,...      0  "
      ]
     },
     "execution_count": 258,
     "metadata": {},
     "output_type": "execute_result"
    }
   ],
   "source": [
    "df.head()"
   ]
  },
  {
   "cell_type": "code",
   "execution_count": null,
   "metadata": {},
   "outputs": [],
   "source": []
  }
 ],
 "metadata": {
  "kernelspec": {
   "display_name": "Python 3",
   "language": "python",
   "name": "python3"
  },
  "language_info": {
   "codemirror_mode": {
    "name": "ipython",
    "version": 3
   },
   "file_extension": ".py",
   "mimetype": "text/x-python",
   "name": "python",
   "nbconvert_exporter": "python",
   "pygments_lexer": "ipython3",
   "version": "3.7.6"
  }
 },
 "nbformat": 4,
 "nbformat_minor": 4
}
