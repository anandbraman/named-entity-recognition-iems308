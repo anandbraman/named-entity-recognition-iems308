{
 "cells": [
  {
   "cell_type": "code",
   "execution_count": 1,
   "metadata": {},
   "outputs": [],
   "source": [
    "import pandas as pd\n",
    "import spacy\n",
    "import string\n",
    "from tqdm import tqdm"
   ]
  },
  {
   "cell_type": "code",
   "execution_count": 2,
   "metadata": {},
   "outputs": [],
   "source": [
    "org_df = pd.read_csv('data/labeled_org_data.csv')\n",
    "person_df = pd.read_csv('data/labeled_person_data.csv')"
   ]
  },
  {
   "cell_type": "code",
   "execution_count": 3,
   "metadata": {},
   "outputs": [],
   "source": [
    "from sklearn.model_selection import train_test_split\n",
    "# train test split data\n",
    "X_org_train, X_org_test, y_org_train, y_org_test = train_test_split(org_df.drop('y', axis=1), \n",
    "                                                                    org_df.y, test_size=0.25)"
   ]
  },
  {
   "cell_type": "code",
   "execution_count": 77,
   "metadata": {},
   "outputs": [],
   "source": [
    "X_per_train, X_per_test, y_per_train, y_per_test = train_test_split(person_df.drop('y', axis=1), person_df.y, \n",
    "                                                                    test_size=0.25)"
   ]
  },
  {
   "cell_type": "code",
   "execution_count": 234,
   "metadata": {},
   "outputs": [
    {
     "data": {
      "text/html": [
       "<div>\n",
       "<style scoped>\n",
       "    .dataframe tbody tr th:only-of-type {\n",
       "        vertical-align: middle;\n",
       "    }\n",
       "\n",
       "    .dataframe tbody tr th {\n",
       "        vertical-align: top;\n",
       "    }\n",
       "\n",
       "    .dataframe thead th {\n",
       "        text-align: right;\n",
       "    }\n",
       "</style>\n",
       "<table border=\"1\" class=\"dataframe\">\n",
       "  <thead>\n",
       "    <tr style=\"text-align: right;\">\n",
       "      <th></th>\n",
       "      <th>y</th>\n",
       "      <th>num_cap</th>\n",
       "      <th>num_words</th>\n",
       "      <th>has_quote</th>\n",
       "      <th>best_company</th>\n",
       "      <th>contain_company</th>\n",
       "    </tr>\n",
       "  </thead>\n",
       "  <tbody>\n",
       "    <tr>\n",
       "      <th>count</th>\n",
       "      <td>303707.000000</td>\n",
       "      <td>303707.000000</td>\n",
       "      <td>303707.000000</td>\n",
       "      <td>303707.000000</td>\n",
       "      <td>303707.000000</td>\n",
       "      <td>303707.000000</td>\n",
       "    </tr>\n",
       "    <tr>\n",
       "      <th>mean</th>\n",
       "      <td>0.380752</td>\n",
       "      <td>6.821621</td>\n",
       "      <td>25.135446</td>\n",
       "      <td>0.407854</td>\n",
       "      <td>0.020638</td>\n",
       "      <td>0.042837</td>\n",
       "    </tr>\n",
       "    <tr>\n",
       "      <th>std</th>\n",
       "      <td>0.485573</td>\n",
       "      <td>9.594531</td>\n",
       "      <td>18.284143</td>\n",
       "      <td>0.491437</td>\n",
       "      <td>0.142170</td>\n",
       "      <td>0.202491</td>\n",
       "    </tr>\n",
       "    <tr>\n",
       "      <th>min</th>\n",
       "      <td>0.000000</td>\n",
       "      <td>0.000000</td>\n",
       "      <td>1.000000</td>\n",
       "      <td>0.000000</td>\n",
       "      <td>0.000000</td>\n",
       "      <td>0.000000</td>\n",
       "    </tr>\n",
       "    <tr>\n",
       "      <th>25%</th>\n",
       "      <td>0.000000</td>\n",
       "      <td>3.000000</td>\n",
       "      <td>16.000000</td>\n",
       "      <td>0.000000</td>\n",
       "      <td>0.000000</td>\n",
       "      <td>0.000000</td>\n",
       "    </tr>\n",
       "    <tr>\n",
       "      <th>50%</th>\n",
       "      <td>0.000000</td>\n",
       "      <td>5.000000</td>\n",
       "      <td>23.000000</td>\n",
       "      <td>0.000000</td>\n",
       "      <td>0.000000</td>\n",
       "      <td>0.000000</td>\n",
       "    </tr>\n",
       "    <tr>\n",
       "      <th>75%</th>\n",
       "      <td>1.000000</td>\n",
       "      <td>8.000000</td>\n",
       "      <td>32.000000</td>\n",
       "      <td>1.000000</td>\n",
       "      <td>0.000000</td>\n",
       "      <td>0.000000</td>\n",
       "    </tr>\n",
       "    <tr>\n",
       "      <th>max</th>\n",
       "      <td>1.000000</td>\n",
       "      <td>1863.000000</td>\n",
       "      <td>2205.000000</td>\n",
       "      <td>1.000000</td>\n",
       "      <td>1.000000</td>\n",
       "      <td>1.000000</td>\n",
       "    </tr>\n",
       "  </tbody>\n",
       "</table>\n",
       "</div>"
      ],
      "text/plain": [
       "                   y        num_cap      num_words      has_quote  \\\n",
       "count  303707.000000  303707.000000  303707.000000  303707.000000   \n",
       "mean        0.380752       6.821621      25.135446       0.407854   \n",
       "std         0.485573       9.594531      18.284143       0.491437   \n",
       "min         0.000000       0.000000       1.000000       0.000000   \n",
       "25%         0.000000       3.000000      16.000000       0.000000   \n",
       "50%         0.000000       5.000000      23.000000       0.000000   \n",
       "75%         1.000000       8.000000      32.000000       1.000000   \n",
       "max         1.000000    1863.000000    2205.000000       1.000000   \n",
       "\n",
       "        best_company  contain_company  \n",
       "count  303707.000000    303707.000000  \n",
       "mean        0.020638         0.042837  \n",
       "std         0.142170         0.202491  \n",
       "min         0.000000         0.000000  \n",
       "25%         0.000000         0.000000  \n",
       "50%         0.000000         0.000000  \n",
       "75%         0.000000         0.000000  \n",
       "max         1.000000         1.000000  "
      ]
     },
     "execution_count": 234,
     "metadata": {},
     "output_type": "execute_result"
    }
   ],
   "source": [
    "org_df.describe()"
   ]
  },
  {
   "cell_type": "code",
   "execution_count": 235,
   "metadata": {},
   "outputs": [
    {
     "data": {
      "text/html": [
       "<div>\n",
       "<style scoped>\n",
       "    .dataframe tbody tr th:only-of-type {\n",
       "        vertical-align: middle;\n",
       "    }\n",
       "\n",
       "    .dataframe tbody tr th {\n",
       "        vertical-align: top;\n",
       "    }\n",
       "\n",
       "    .dataframe thead th {\n",
       "        text-align: right;\n",
       "    }\n",
       "</style>\n",
       "<table border=\"1\" class=\"dataframe\">\n",
       "  <thead>\n",
       "    <tr style=\"text-align: right;\">\n",
       "      <th></th>\n",
       "      <th>y</th>\n",
       "      <th>num_cap</th>\n",
       "      <th>num_words</th>\n",
       "      <th>has_quote</th>\n",
       "      <th>best_ceo</th>\n",
       "      <th>contain_ceo</th>\n",
       "    </tr>\n",
       "  </thead>\n",
       "  <tbody>\n",
       "    <tr>\n",
       "      <th>count</th>\n",
       "      <td>199827.000000</td>\n",
       "      <td>199827.000000</td>\n",
       "      <td>199827.000000</td>\n",
       "      <td>199827.000000</td>\n",
       "      <td>199827.000000</td>\n",
       "      <td>199827.000000</td>\n",
       "    </tr>\n",
       "    <tr>\n",
       "      <th>mean</th>\n",
       "      <td>0.127650</td>\n",
       "      <td>7.370130</td>\n",
       "      <td>25.843670</td>\n",
       "      <td>0.471052</td>\n",
       "      <td>0.007186</td>\n",
       "      <td>0.027969</td>\n",
       "    </tr>\n",
       "    <tr>\n",
       "      <th>std</th>\n",
       "      <td>0.333701</td>\n",
       "      <td>10.587218</td>\n",
       "      <td>21.795162</td>\n",
       "      <td>0.499163</td>\n",
       "      <td>0.084467</td>\n",
       "      <td>0.164885</td>\n",
       "    </tr>\n",
       "    <tr>\n",
       "      <th>min</th>\n",
       "      <td>0.000000</td>\n",
       "      <td>0.000000</td>\n",
       "      <td>1.000000</td>\n",
       "      <td>0.000000</td>\n",
       "      <td>0.000000</td>\n",
       "      <td>0.000000</td>\n",
       "    </tr>\n",
       "    <tr>\n",
       "      <th>25%</th>\n",
       "      <td>0.000000</td>\n",
       "      <td>3.000000</td>\n",
       "      <td>16.000000</td>\n",
       "      <td>0.000000</td>\n",
       "      <td>0.000000</td>\n",
       "      <td>0.000000</td>\n",
       "    </tr>\n",
       "    <tr>\n",
       "      <th>50%</th>\n",
       "      <td>0.000000</td>\n",
       "      <td>5.000000</td>\n",
       "      <td>24.000000</td>\n",
       "      <td>0.000000</td>\n",
       "      <td>0.000000</td>\n",
       "      <td>0.000000</td>\n",
       "    </tr>\n",
       "    <tr>\n",
       "      <th>75%</th>\n",
       "      <td>0.000000</td>\n",
       "      <td>9.000000</td>\n",
       "      <td>33.000000</td>\n",
       "      <td>1.000000</td>\n",
       "      <td>0.000000</td>\n",
       "      <td>0.000000</td>\n",
       "    </tr>\n",
       "    <tr>\n",
       "      <th>max</th>\n",
       "      <td>1.000000</td>\n",
       "      <td>1863.000000</td>\n",
       "      <td>2205.000000</td>\n",
       "      <td>1.000000</td>\n",
       "      <td>1.000000</td>\n",
       "      <td>1.000000</td>\n",
       "    </tr>\n",
       "  </tbody>\n",
       "</table>\n",
       "</div>"
      ],
      "text/plain": [
       "                   y        num_cap      num_words      has_quote  \\\n",
       "count  199827.000000  199827.000000  199827.000000  199827.000000   \n",
       "mean        0.127650       7.370130      25.843670       0.471052   \n",
       "std         0.333701      10.587218      21.795162       0.499163   \n",
       "min         0.000000       0.000000       1.000000       0.000000   \n",
       "25%         0.000000       3.000000      16.000000       0.000000   \n",
       "50%         0.000000       5.000000      24.000000       0.000000   \n",
       "75%         0.000000       9.000000      33.000000       1.000000   \n",
       "max         1.000000    1863.000000    2205.000000       1.000000   \n",
       "\n",
       "            best_ceo    contain_ceo  \n",
       "count  199827.000000  199827.000000  \n",
       "mean        0.007186       0.027969  \n",
       "std         0.084467       0.164885  \n",
       "min         0.000000       0.000000  \n",
       "25%         0.000000       0.000000  \n",
       "50%         0.000000       0.000000  \n",
       "75%         0.000000       0.000000  \n",
       "max         1.000000       1.000000  "
      ]
     },
     "execution_count": 235,
     "metadata": {},
     "output_type": "execute_result"
    }
   ],
   "source": [
    "person_df.describe()"
   ]
  },
  {
   "cell_type": "markdown",
   "metadata": {},
   "source": [
    "## Modeling Companies"
   ]
  },
  {
   "cell_type": "markdown",
   "metadata": {},
   "source": [
    "### TF-IDF Vectorization"
   ]
  },
  {
   "cell_type": "code",
   "execution_count": 5,
   "metadata": {},
   "outputs": [],
   "source": [
    "from sklearn.feature_extraction.text import TfidfVectorizer\n",
    "tfidf_org = TfidfVectorizer(ngram_range=(1,3), \n",
    "                           stop_words='english',\n",
    "                           max_features=10000).fit(X_org_train.sentences)"
   ]
  },
  {
   "cell_type": "code",
   "execution_count": 6,
   "metadata": {},
   "outputs": [],
   "source": [
    "# tfidf transformation for org train and test data\n",
    "from scipy.sparse import hstack\n",
    "org_text_train = tfidf_org.transform(X_org_train.sentences)\n",
    "org_text_test = tfidf_org.transform(X_org_test.sentences)"
   ]
  },
  {
   "cell_type": "code",
   "execution_count": 7,
   "metadata": {},
   "outputs": [],
   "source": [
    "X_org_train = hstack([X_org_train.drop(\"sentences\", axis=1), org_text_train])\n",
    "X_org_test = hstack([X_org_test.drop(\"sentences\",axis=1), org_text_test])"
   ]
  },
  {
   "cell_type": "code",
   "execution_count": 8,
   "metadata": {},
   "outputs": [
    {
     "data": {
      "text/plain": [
       "(227780, 10005)"
      ]
     },
     "execution_count": 8,
     "metadata": {},
     "output_type": "execute_result"
    }
   ],
   "source": [
    "X_org_train.shape"
   ]
  },
  {
   "cell_type": "code",
   "execution_count": 9,
   "metadata": {},
   "outputs": [
    {
     "data": {
      "text/plain": [
       "(75927, 10005)"
      ]
     },
     "execution_count": 9,
     "metadata": {},
     "output_type": "execute_result"
    }
   ],
   "source": [
    "X_org_test.shape"
   ]
  },
  {
   "cell_type": "code",
   "execution_count": 63,
   "metadata": {},
   "outputs": [
    {
     "data": {
      "text/plain": [
       "LogisticRegression(C=1.0, class_weight='balanced', dual=False,\n",
       "                   fit_intercept=True, intercept_scaling=1, l1_ratio=None,\n",
       "                   max_iter=5000, multi_class='auto', n_jobs=None, penalty='l2',\n",
       "                   random_state=None, solver='lbfgs', tol=0.0001, verbose=0,\n",
       "                   warm_start=False)"
      ]
     },
     "execution_count": 63,
     "metadata": {},
     "output_type": "execute_result"
    }
   ],
   "source": [
    "from sklearn.linear_model import LogisticRegression\n",
    "from sklearn.metrics import classification_report\n",
    "lr_org = LogisticRegression(max_iter=5000, class_weight='balanced')\n",
    "lr_org.fit(X_org_train, y_org_train)"
   ]
  },
  {
   "cell_type": "code",
   "execution_count": 64,
   "metadata": {},
   "outputs": [],
   "source": [
    "y_train_pred = lr_org.predict(X_org_train)"
   ]
  },
  {
   "cell_type": "code",
   "execution_count": 65,
   "metadata": {},
   "outputs": [
    {
     "name": "stdout",
     "output_type": "stream",
     "text": [
      "              precision    recall  f1-score   support\n",
      "\n",
      "           0       0.94      0.97      0.95    141048\n",
      "           1       0.94      0.90      0.92     86732\n",
      "\n",
      "    accuracy                           0.94    227780\n",
      "   macro avg       0.94      0.93      0.93    227780\n",
      "weighted avg       0.94      0.94      0.94    227780\n",
      "\n"
     ]
    }
   ],
   "source": [
    "print(classification_report(y_org_train, y_train_pred))"
   ]
  },
  {
   "cell_type": "code",
   "execution_count": 66,
   "metadata": {},
   "outputs": [
    {
     "name": "stdout",
     "output_type": "stream",
     "text": [
      "              precision    recall  f1-score   support\n",
      "\n",
      "           0       0.93      0.96      0.95     47022\n",
      "           1       0.94      0.88      0.91     28905\n",
      "\n",
      "    accuracy                           0.93     75927\n",
      "   macro avg       0.93      0.92      0.93     75927\n",
      "weighted avg       0.93      0.93      0.93     75927\n",
      "\n"
     ]
    }
   ],
   "source": [
    "y_test_pred = lr_org.predict(X_org_test)\n",
    "print(classification_report(y_org_test, y_test_pred))"
   ]
  },
  {
   "cell_type": "code",
   "execution_count": 13,
   "metadata": {},
   "outputs": [
    {
     "data": {
      "text/plain": [
       "Int64Index([272316, 263443,  21431,  45020, 278645,  81076,  63552,  68047,\n",
       "            160333,  31317,\n",
       "            ...\n",
       "              4201, 186587,  69422, 132796,  85487, 155410,   7081, 293815,\n",
       "            199699, 167087],\n",
       "           dtype='int64', length=70726)"
      ]
     },
     "execution_count": 13,
     "metadata": {},
     "output_type": "execute_result"
    }
   ],
   "source": [
    "y_org_test[y_org_test == y_test_pred].index"
   ]
  },
  {
   "cell_type": "markdown",
   "metadata": {},
   "source": [
    "### True Positives"
   ]
  },
  {
   "cell_type": "code",
   "execution_count": 169,
   "metadata": {},
   "outputs": [],
   "source": [
    "companies_train = y_org_train[(y_org_train == y_train_pred) & (y_org_train ==1)]"
   ]
  },
  {
   "cell_type": "code",
   "execution_count": 170,
   "metadata": {},
   "outputs": [],
   "source": [
    "companies_test = y_org_test[(y_org_test == y_test_pred) & (y_org_test == 1)]"
   ]
  },
  {
   "cell_type": "code",
   "execution_count": 171,
   "metadata": {},
   "outputs": [],
   "source": [
    "true_pos_indices = companies_train.index.append(companies_test.index).to_list()"
   ]
  },
  {
   "cell_type": "code",
   "execution_count": 175,
   "metadata": {},
   "outputs": [],
   "source": [
    "company_df = org_df.iloc[true_pos_indices]"
   ]
  },
  {
   "cell_type": "code",
   "execution_count": 176,
   "metadata": {},
   "outputs": [],
   "source": [
    "company_sentences = company_df.sentences.to_list()"
   ]
  },
  {
   "cell_type": "code",
   "execution_count": 178,
   "metadata": {},
   "outputs": [],
   "source": [
    "nlp = spacy.load(\"en_core_web_sm\", disable=[\"tagger\", \"parser\"])\n",
    "company_processed = [nlp(sentence) for sentence in company_sentences]"
   ]
  },
  {
   "cell_type": "code",
   "execution_count": 233,
   "metadata": {},
   "outputs": [
    {
     "data": {
      "text/html": [
       "<div class=\"entities\" style=\"line-height: 2.5; direction: ltr\">I probably should have dumped my excess \n",
       "<mark class=\"entity\" style=\"background: #7aecec; padding: 0.45em 0.6em; margin: 0 0.25em; line-height: 1; border-radius: 0.35em;\">\n",
       "    Apple\n",
       "    <span style=\"font-size: 0.8em; font-weight: bold; line-height: 1; border-radius: 0.35em; text-transform: uppercase; vertical-align: middle; margin-left: 0.5rem\">ORG</span>\n",
       "</mark>\n",
       " \n",
       "<mark class=\"entity\" style=\"background: #bfe1d9; padding: 0.45em 0.6em; margin: 0 0.25em; line-height: 1; border-radius: 0.35em;\">\n",
       "    yesterday\n",
       "    <span style=\"font-size: 0.8em; font-weight: bold; line-height: 1; border-radius: 0.35em; text-transform: uppercase; vertical-align: middle; margin-left: 0.5rem\">DATE</span>\n",
       "</mark>\n",
       ", when the stock jumped to $\n",
       "<mark class=\"entity\" style=\"background: #e4e7d2; padding: 0.45em 0.6em; margin: 0 0.25em; line-height: 1; border-radius: 0.35em;\">\n",
       "    103\n",
       "    <span style=\"font-size: 0.8em; font-weight: bold; line-height: 1; border-radius: 0.35em; text-transform: uppercase; vertical-align: middle; margin-left: 0.5rem\">MONEY</span>\n",
       "</mark>\n",
       " in the \n",
       "<mark class=\"entity\" style=\"background: #bfe1d9; padding: 0.45em 0.6em; margin: 0 0.25em; line-height: 1; border-radius: 0.35em;\">\n",
       "    seconds\n",
       "    <span style=\"font-size: 0.8em; font-weight: bold; line-height: 1; border-radius: 0.35em; text-transform: uppercase; vertical-align: middle; margin-left: 0.5rem\">TIME</span>\n",
       "</mark>\n",
       " before the \n",
       "<mark class=\"entity\" style=\"background: #f0d0ff; padding: 0.45em 0.6em; margin: 0 0.25em; line-height: 1; border-radius: 0.35em;\">\n",
       "    Watch\n",
       "    <span style=\"font-size: 0.8em; font-weight: bold; line-height: 1; border-radius: 0.35em; text-transform: uppercase; vertical-align: middle; margin-left: 0.5rem\">WORK_OF_ART</span>\n",
       "</mark>\n",
       " was announced (it then plummeted).</div>"
      ],
      "text/plain": [
       "<IPython.core.display.HTML object>"
      ]
     },
     "metadata": {},
     "output_type": "display_data"
    }
   ],
   "source": [
    "from spacy import displacy\n",
    "displacy.render(company_processed[5], style='ent')"
   ]
  },
  {
   "cell_type": "code",
   "execution_count": 181,
   "metadata": {},
   "outputs": [],
   "source": [
    "def return_companies(sentence_spacified):\n",
    "    company = [ent.text for ent in sentence_spacified.ents if ent.label_ == \"ORG\"]\n",
    "    return company"
   ]
  },
  {
   "cell_type": "code",
   "execution_count": 182,
   "metadata": {},
   "outputs": [],
   "source": [
    "company_lst = []\n",
    "for sent in company_processed:\n",
    "    companies = return_companies(sent)\n",
    "    company_lst.extend(companies)"
   ]
  },
  {
   "cell_type": "code",
   "execution_count": 193,
   "metadata": {},
   "outputs": [],
   "source": [
    "unique_companies = list(set(company_lst))"
   ]
  },
  {
   "cell_type": "code",
   "execution_count": 225,
   "metadata": {},
   "outputs": [],
   "source": [
    "## writing these to a csv and calling it good. \n",
    "companies_final = pd.DataFrame({'companies': unique_companies})\n",
    "companies_final.to_csv(\"results/company_matches.csv\",index=False)"
   ]
  },
  {
   "cell_type": "code",
   "execution_count": 255,
   "metadata": {},
   "outputs": [
    {
     "data": {
      "text/plain": [
       "(31955, 1)"
      ]
     },
     "execution_count": 255,
     "metadata": {},
     "output_type": "execute_result"
    }
   ],
   "source": [
    "companies_final.shape"
   ]
  },
  {
   "cell_type": "markdown",
   "metadata": {},
   "source": [
    "### False Positives"
   ]
  },
  {
   "cell_type": "code",
   "execution_count": 217,
   "metadata": {},
   "outputs": [],
   "source": [
    "conf_train = lr_org.decision_function(X_org_train)\n",
    "compFP_train = y_org_train[(y_org_train != y_train_pred) & (y_train_pred ==1) & (conf_train >= 2.0)]"
   ]
  },
  {
   "cell_type": "code",
   "execution_count": 218,
   "metadata": {},
   "outputs": [],
   "source": [
    "conf_test = lr_org.decision_function(X_org_test)\n",
    "compFP_test = y_org_test[(y_org_test != y_test_pred) & (y_test_pred == 1) & (conf_test > 2.0)]"
   ]
  },
  {
   "cell_type": "code",
   "execution_count": 219,
   "metadata": {},
   "outputs": [],
   "source": [
    "company_FP = compFP_train.index.append(compFP_test.index).to_list()"
   ]
  },
  {
   "cell_type": "code",
   "execution_count": 220,
   "metadata": {},
   "outputs": [],
   "source": [
    "company_FP_df = org_df.iloc[company_FP]"
   ]
  },
  {
   "cell_type": "code",
   "execution_count": 221,
   "metadata": {},
   "outputs": [],
   "source": [
    "company_FP_processed = [nlp(sentence) for sentence in company_FP_df.sentences.to_list()]"
   ]
  },
  {
   "cell_type": "code",
   "execution_count": 222,
   "metadata": {},
   "outputs": [],
   "source": [
    "company_FP_lst = []\n",
    "for sent in company_FP_processed:\n",
    "    company_FP = return_companies(sent)\n",
    "    company_FP_lst.extend(company_FP)"
   ]
  },
  {
   "cell_type": "code",
   "execution_count": 267,
   "metadata": {
    "scrolled": false
   },
   "outputs": [],
   "source": [
    "company_FP_lst = list(set(company_FP_lst))"
   ]
  },
  {
   "cell_type": "code",
   "execution_count": 268,
   "metadata": {},
   "outputs": [
    {
     "data": {
      "text/plain": [
       "839"
      ]
     },
     "execution_count": 268,
     "metadata": {},
     "output_type": "execute_result"
    }
   ],
   "source": [
    "len(company_FP_lst)"
   ]
  },
  {
   "cell_type": "code",
   "execution_count": 269,
   "metadata": {},
   "outputs": [],
   "source": [
    "companyDF_fp = pd.DataFrame({'company': company_FP_lst})\n",
    "companyDF_fp.to_csv('results/companies_hiconf_FP.csv', index=False)"
   ]
  },
  {
   "cell_type": "markdown",
   "metadata": {},
   "source": [
    "### Random Forest Classifier"
   ]
  },
  {
   "cell_type": "code",
   "execution_count": 14,
   "metadata": {},
   "outputs": [],
   "source": [
    "# from sklearn.ensemble import RandomForestClassifier\n",
    "# rf_org = RandomForestClassifier(n_jobs=-1, n_estimators=128,\n",
    "#                                 min_samples_split=0.001,\n",
    "#                                 max_samples=0.5,\n",
    "#                                verbose=1)\n",
    "# rf_org.fit(X_org_train, y_org_train)\n",
    "# orgPredsTrain_rf = rf_org.predict(X_org_train)"
   ]
  },
  {
   "cell_type": "code",
   "execution_count": 15,
   "metadata": {},
   "outputs": [],
   "source": [
    "# print(classification_report(orgPredsTrain_rf, y_org_train))"
   ]
  },
  {
   "cell_type": "code",
   "execution_count": 16,
   "metadata": {},
   "outputs": [],
   "source": [
    "# orgPredsTest_rf = rf_org.predict(X_org_test)\n",
    "# print(classification_report(y_org_test, orgPredsTest_rf))"
   ]
  },
  {
   "cell_type": "markdown",
   "metadata": {},
   "source": [
    "## Modeling CEOs"
   ]
  },
  {
   "cell_type": "code",
   "execution_count": 78,
   "metadata": {},
   "outputs": [],
   "source": [
    "tfidf_per =  TfidfVectorizer(ngram_range=(1,3), \n",
    "                           stop_words='english',\n",
    "                            max_features=10000).fit(X_per_train.sentences)"
   ]
  },
  {
   "cell_type": "code",
   "execution_count": 79,
   "metadata": {},
   "outputs": [],
   "source": [
    "per_text_train = tfidf_per.transform(X_per_train.sentences)\n",
    "per_text_test = tfidf_per.transform(X_per_test.sentences)\n",
    "X_per_train = hstack([X_per_train.drop('sentences',axis=1), per_text_train])\n",
    "X_per_test = hstack([X_per_test.drop('sentences',axis=1), per_text_test])"
   ]
  },
  {
   "cell_type": "code",
   "execution_count": 80,
   "metadata": {},
   "outputs": [
    {
     "data": {
      "text/plain": [
       "LogisticRegression(C=1.0, class_weight='balanced', dual=False,\n",
       "                   fit_intercept=True, intercept_scaling=1, l1_ratio=None,\n",
       "                   max_iter=5000, multi_class='auto', n_jobs=None, penalty='l2',\n",
       "                   random_state=None, solver='lbfgs', tol=0.0001, verbose=0,\n",
       "                   warm_start=False)"
      ]
     },
     "execution_count": 80,
     "metadata": {},
     "output_type": "execute_result"
    }
   ],
   "source": [
    "lr_per = LogisticRegression(max_iter=5000, class_weight='balanced')\n",
    "lr_per.fit(X_per_train, y_per_train)"
   ]
  },
  {
   "cell_type": "code",
   "execution_count": 81,
   "metadata": {},
   "outputs": [],
   "source": [
    "ceo_train_pred = lr_per.predict(X_per_train)"
   ]
  },
  {
   "cell_type": "code",
   "execution_count": 82,
   "metadata": {},
   "outputs": [
    {
     "name": "stdout",
     "output_type": "stream",
     "text": [
      "              precision    recall  f1-score   support\n",
      "\n",
      "           0       0.98      0.96      0.97    130807\n",
      "           1       0.75      0.90      0.82     19063\n",
      "\n",
      "    accuracy                           0.95    149870\n",
      "   macro avg       0.87      0.93      0.90    149870\n",
      "weighted avg       0.96      0.95      0.95    149870\n",
      "\n"
     ]
    }
   ],
   "source": [
    "print(classification_report(y_per_train, ceo_train_pred))"
   ]
  },
  {
   "cell_type": "code",
   "execution_count": 83,
   "metadata": {},
   "outputs": [
    {
     "name": "stdout",
     "output_type": "stream",
     "text": [
      "              precision    recall  f1-score   support\n",
      "\n",
      "           0       0.98      0.95      0.96     43512\n",
      "           1       0.72      0.86      0.78      6445\n",
      "\n",
      "    accuracy                           0.94     49957\n",
      "   macro avg       0.85      0.90      0.87     49957\n",
      "weighted avg       0.95      0.94      0.94     49957\n",
      "\n"
     ]
    }
   ],
   "source": [
    "ceo_test_pred = lr_per.predict(X_per_test)\n",
    "print(classification_report(y_per_test, ceo_test_pred))"
   ]
  },
  {
   "cell_type": "code",
   "execution_count": 84,
   "metadata": {},
   "outputs": [
    {
     "data": {
      "text/plain": [
       "0.12901094941649818"
      ]
     },
     "execution_count": 84,
     "metadata": {},
     "output_type": "execute_result"
    }
   ],
   "source": [
    "y_per_test.mean()"
   ]
  },
  {
   "cell_type": "markdown",
   "metadata": {},
   "source": [
    "### Gradient Boosting Classifier"
   ]
  },
  {
   "cell_type": "code",
   "execution_count": 106,
   "metadata": {},
   "outputs": [],
   "source": [
    "from sklearn.ensemble import GradientBoostingClassifier"
   ]
  },
  {
   "cell_type": "code",
   "execution_count": 154,
   "metadata": {},
   "outputs": [
    {
     "name": "stdout",
     "output_type": "stream",
     "text": [
      "      Iter       Train Loss   Remaining Time \n",
      "         1           0.6507            1.80m\n",
      "         2           0.5998            1.68m\n",
      "         3           0.5622            1.63m\n",
      "         4           0.5305            1.58m\n",
      "         5           0.5075            1.54m\n",
      "         6           0.4916            1.49m\n",
      "         7           0.4781            1.47m\n",
      "         8           0.4635            1.43m\n",
      "         9           0.4508            1.41m\n",
      "        10           0.4403            1.38m\n",
      "        20           0.3511            1.19m\n",
      "        30           0.2979            1.03m\n",
      "        40           0.2681           52.78s\n",
      "        50           0.2531           44.00s\n",
      "        60           0.2450           35.42s\n",
      "        70           0.2381           26.49s\n",
      "        80           0.2332           17.70s\n",
      "        90           0.2292            9.11s\n",
      "       100           0.2251            0.00s\n"
     ]
    },
    {
     "data": {
      "text/plain": [
       "GradientBoostingClassifier(ccp_alpha=0.0, criterion='friedman_mse', init=None,\n",
       "                           learning_rate=0.6, loss='deviance', max_depth=3,\n",
       "                           max_features=None, max_leaf_nodes=None,\n",
       "                           min_impurity_decrease=0.0, min_impurity_split=None,\n",
       "                           min_samples_leaf=1, min_samples_split=2,\n",
       "                           min_weight_fraction_leaf=0.0, n_estimators=100,\n",
       "                           n_iter_no_change=None, presort='deprecated',\n",
       "                           random_state=None, subsample=1.0, tol=0.0001,\n",
       "                           validation_fraction=0.1, verbose=1,\n",
       "                           warm_start=False)"
      ]
     },
     "execution_count": 154,
     "metadata": {},
     "output_type": "execute_result"
    }
   ],
   "source": [
    "gbc = GradientBoostingClassifier(verbose=1, learning_rate=0.6, n_estimators=100)\n",
    "gbc.fit(X_per_train, y_per_train)"
   ]
  },
  {
   "cell_type": "code",
   "execution_count": 155,
   "metadata": {},
   "outputs": [],
   "source": [
    "y_train_gbm = gbc.predict(X_per_train)"
   ]
  },
  {
   "cell_type": "code",
   "execution_count": 156,
   "metadata": {},
   "outputs": [
    {
     "name": "stdout",
     "output_type": "stream",
     "text": [
      "              precision    recall  f1-score   support\n",
      "\n",
      "           0       0.98      0.99      0.98    130807\n",
      "           1       0.93      0.83      0.88     19063\n",
      "\n",
      "    accuracy                           0.97    149870\n",
      "   macro avg       0.95      0.91      0.93    149870\n",
      "weighted avg       0.97      0.97      0.97    149870\n",
      "\n"
     ]
    }
   ],
   "source": [
    "print(classification_report(y_per_train, y_train_gbm))"
   ]
  },
  {
   "cell_type": "code",
   "execution_count": 157,
   "metadata": {},
   "outputs": [
    {
     "name": "stdout",
     "output_type": "stream",
     "text": [
      "              precision    recall  f1-score   support\n",
      "\n",
      "           0       0.97      0.99      0.98     43512\n",
      "           1       0.91      0.80      0.85      6445\n",
      "\n",
      "    accuracy                           0.96     49957\n",
      "   macro avg       0.94      0.89      0.91     49957\n",
      "weighted avg       0.96      0.96      0.96     49957\n",
      "\n"
     ]
    }
   ],
   "source": [
    "y_test_gbm = gbc.predict(X_per_test)\n",
    "print(classification_report(y_per_test, y_test_gbm))"
   ]
  },
  {
   "cell_type": "markdown",
   "metadata": {},
   "source": [
    "### True Positives"
   ]
  },
  {
   "cell_type": "code",
   "execution_count": 244,
   "metadata": {},
   "outputs": [],
   "source": [
    "ceos_train = y_per_train[(y_per_train == y_train_gbm) & (y_per_train == 1)]"
   ]
  },
  {
   "cell_type": "code",
   "execution_count": 245,
   "metadata": {},
   "outputs": [],
   "source": [
    "ceos_test= y_per_test[(y_per_test == y_test_gbm) & (y_per_test == 1)]"
   ]
  },
  {
   "cell_type": "code",
   "execution_count": 246,
   "metadata": {},
   "outputs": [],
   "source": [
    "ceos_idx = ceos_train.index.append(ceos_test.index).to_list()"
   ]
  },
  {
   "cell_type": "code",
   "execution_count": 247,
   "metadata": {},
   "outputs": [],
   "source": [
    "ceo_df = person_df.iloc[ceos_idx]"
   ]
  },
  {
   "cell_type": "code",
   "execution_count": 249,
   "metadata": {},
   "outputs": [],
   "source": [
    "ceo_sentences = [nlp(sent) for sent in ceo_df.sentences.to_list()]"
   ]
  },
  {
   "cell_type": "code",
   "execution_count": 250,
   "metadata": {},
   "outputs": [],
   "source": [
    "def return_ceos(sentence_spacified):\n",
    "    ceo = [ent.text for ent in sentence_spacified.ents if ent.label_ == \"PERSON\"]\n",
    "    return ceo"
   ]
  },
  {
   "cell_type": "code",
   "execution_count": 251,
   "metadata": {},
   "outputs": [],
   "source": [
    "ceo_lst = []\n",
    "for sent in ceo_sentences:\n",
    "    ceo = return_ceos(sent)\n",
    "    ceo_lst.extend(ceo)"
   ]
  },
  {
   "cell_type": "code",
   "execution_count": 253,
   "metadata": {},
   "outputs": [],
   "source": [
    "ceo_lst = list(set(ceo_lst))\n",
    "ceo_df = pd.DataFrame({'ceo': ceo_lst})\n",
    "ceo_df.to_csv('results/ceo_matches.csv')"
   ]
  },
  {
   "cell_type": "code",
   "execution_count": 254,
   "metadata": {},
   "outputs": [
    {
     "data": {
      "text/plain": [
       "(9374, 1)"
      ]
     },
     "execution_count": 254,
     "metadata": {},
     "output_type": "execute_result"
    }
   ],
   "source": [
    "ceo_df.shape"
   ]
  },
  {
   "cell_type": "markdown",
   "metadata": {},
   "source": [
    "### False Positives"
   ]
  },
  {
   "cell_type": "code",
   "execution_count": 256,
   "metadata": {},
   "outputs": [],
   "source": [
    "ceo_conf_train = gbc.decision_function(X_per_train)\n",
    "ceosFP_train = y_per_train[(y_per_train != y_train_gbm) & (y_train_gbm==1) & (ceo_conf_train >= 2.0)]"
   ]
  },
  {
   "cell_type": "code",
   "execution_count": 257,
   "metadata": {},
   "outputs": [],
   "source": [
    "ceo_conf_test = gbc.decision_function(X_per_test)\n",
    "ceosFP_test = y_per_test[(y_per_test != y_test_gbm) & (y_test_gbm==1) & (ceo_conf_test >= 2.0)]"
   ]
  },
  {
   "cell_type": "code",
   "execution_count": 258,
   "metadata": {},
   "outputs": [],
   "source": [
    "ceosFP_idx = ceosFP_train.index.append(ceosFP_test.index).to_list()"
   ]
  },
  {
   "cell_type": "code",
   "execution_count": 259,
   "metadata": {},
   "outputs": [],
   "source": [
    "ceoFP_df = person_df.iloc[ceosFP_idx]"
   ]
  },
  {
   "cell_type": "code",
   "execution_count": 261,
   "metadata": {},
   "outputs": [],
   "source": [
    "ceoFP_sent = [nlp(sent) for sent in ceoFP_df.sentences.to_list()]"
   ]
  },
  {
   "cell_type": "code",
   "execution_count": 264,
   "metadata": {},
   "outputs": [],
   "source": [
    "ceoFP_lst =[]\n",
    "for sent in ceoFP_sent:\n",
    "    ceoFP = return_ceos(sent)\n",
    "    ceoFP_lst.extend(ceoFP)"
   ]
  },
  {
   "cell_type": "code",
   "execution_count": 271,
   "metadata": {},
   "outputs": [],
   "source": [
    "ceoFP_lst = list(set(ceoFP_lst))"
   ]
  },
  {
   "cell_type": "code",
   "execution_count": 272,
   "metadata": {},
   "outputs": [
    {
     "data": {
      "text/plain": [
       "225"
      ]
     },
     "execution_count": 272,
     "metadata": {},
     "output_type": "execute_result"
    }
   ],
   "source": [
    "len(ceoFP_lst)"
   ]
  },
  {
   "cell_type": "code",
   "execution_count": 273,
   "metadata": {},
   "outputs": [],
   "source": [
    "ceo_hiconf_FP = pd.DataFrame({'ceo': ceoFP_lst})\n",
    "ceo_hiconf_FP.to_csv('results/ceo_hiconf_FP.csv', index=False)"
   ]
  },
  {
   "cell_type": "code",
   "execution_count": null,
   "metadata": {},
   "outputs": [],
   "source": []
  }
 ],
 "metadata": {
  "kernelspec": {
   "display_name": "Python 3",
   "language": "python",
   "name": "python3"
  },
  "language_info": {
   "codemirror_mode": {
    "name": "ipython",
    "version": 3
   },
   "file_extension": ".py",
   "mimetype": "text/x-python",
   "name": "python",
   "nbconvert_exporter": "python",
   "pygments_lexer": "ipython3",
   "version": "3.7.6"
  }
 },
 "nbformat": 4,
 "nbformat_minor": 4
}
